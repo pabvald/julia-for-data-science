{
 "cells": [
  {
   "cell_type": "markdown",
   "metadata": {},
   "source": [
    "# Classification"
   ]
  },
  {
   "cell_type": "code",
   "execution_count": 39,
   "metadata": {},
   "outputs": [],
   "source": [
    "using RDatasets\n",
    "using ScikitLearn.CrossValidation\n",
    "using Plots \n",
    "using DecisionTree \n",
    "using Distances\n",
    "using NearestNeighbors\n",
    "using Random\n",
    "using LinearAlgebra\n",
    "using DataStructures \n",
    "using LIBSVM"
   ]
  },
  {
   "cell_type": "markdown",
   "metadata": {},
   "source": [
    "## Data preprocessing"
   ]
  },
  {
   "cell_type": "markdown",
   "metadata": {},
   "source": [
    "In order to try different classification algorithms, I going to use the well-known Iris dataset."
   ]
  },
  {
   "cell_type": "code",
   "execution_count": 2,
   "metadata": {},
   "outputs": [
    {
     "name": "stdout",
     "output_type": "stream",
     "text": [
      "typeof(irisDataset) = DataFrame\n",
      "size(irisDataset) = (150, 5)\n"
     ]
    },
    {
     "data": {
      "text/plain": [
       "(150, 5)"
      ]
     },
     "execution_count": 2,
     "metadata": {},
     "output_type": "execute_result"
    }
   ],
   "source": [
    "irisDataset = dataset(\"datasets\", \"iris\");\n",
    "@show typeof(irisDataset);\n",
    "@show size(irisDataset)"
   ]
  },
  {
   "cell_type": "code",
   "execution_count": 3,
   "metadata": {},
   "outputs": [
    {
     "data": {
      "text/html": [
       "<table class=\"data-frame\"><thead><tr><th></th><th>variable</th><th>mean</th><th>min</th><th>median</th><th>max</th><th>nunique</th><th>nmissing</th><th>eltype</th></tr><tr><th></th><th>Symbol</th><th>Union…</th><th>Any</th><th>Union…</th><th>Any</th><th>Union…</th><th>Nothing</th><th>DataType</th></tr></thead><tbody><p>5 rows × 8 columns</p><tr><th>1</th><td>SepalLength</td><td>5.84333</td><td>4.3</td><td>5.8</td><td>7.9</td><td></td><td></td><td>Float64</td></tr><tr><th>2</th><td>SepalWidth</td><td>3.05733</td><td>2.0</td><td>3.0</td><td>4.4</td><td></td><td></td><td>Float64</td></tr><tr><th>3</th><td>PetalLength</td><td>3.758</td><td>1.0</td><td>4.35</td><td>6.9</td><td></td><td></td><td>Float64</td></tr><tr><th>4</th><td>PetalWidth</td><td>1.19933</td><td>0.1</td><td>1.3</td><td>2.5</td><td></td><td></td><td>Float64</td></tr><tr><th>5</th><td>Species</td><td></td><td>setosa</td><td></td><td>virginica</td><td>3</td><td></td><td>CategoricalValue{String,UInt8}</td></tr></tbody></table>"
      ],
      "text/latex": [
       "\\begin{tabular}{r|cccccccc}\n",
       "\t& variable & mean & min & median & max & nunique & nmissing & eltype\\\\\n",
       "\t\\hline\n",
       "\t& Symbol & Union… & Any & Union… & Any & Union… & Nothing & DataType\\\\\n",
       "\t\\hline\n",
       "\t1 & SepalLength & 5.84333 & 4.3 & 5.8 & 7.9 &  &  & Float64 \\\\\n",
       "\t2 & SepalWidth & 3.05733 & 2.0 & 3.0 & 4.4 &  &  & Float64 \\\\\n",
       "\t3 & PetalLength & 3.758 & 1.0 & 4.35 & 6.9 &  &  & Float64 \\\\\n",
       "\t4 & PetalWidth & 1.19933 & 0.1 & 1.3 & 2.5 &  &  & Float64 \\\\\n",
       "\t5 & Species &  & setosa &  & virginica & 3 &  & CategoricalValue\\{String,UInt8\\} \\\\\n",
       "\\end{tabular}\n"
      ],
      "text/plain": [
       "5×8 DataFrame. Omitted printing of 2 columns\n",
       "│ Row │ variable    │ mean    │ min    │ median │ max       │ nunique │\n",
       "│     │ \u001b[90mSymbol\u001b[39m      │ \u001b[90mUnion…\u001b[39m  │ \u001b[90mAny\u001b[39m    │ \u001b[90mUnion…\u001b[39m │ \u001b[90mAny\u001b[39m       │ \u001b[90mUnion…\u001b[39m  │\n",
       "├─────┼─────────────┼─────────┼────────┼────────┼───────────┼─────────┤\n",
       "│ 1   │ SepalLength │ 5.84333 │ 4.3    │ 5.8    │ 7.9       │         │\n",
       "│ 2   │ SepalWidth  │ 3.05733 │ 2.0    │ 3.0    │ 4.4       │         │\n",
       "│ 3   │ PetalLength │ 3.758   │ 1.0    │ 4.35   │ 6.9       │         │\n",
       "│ 4   │ PetalWidth  │ 1.19933 │ 0.1    │ 1.3    │ 2.5       │         │\n",
       "│ 5   │ Species     │         │ setosa │        │ virginica │ 3       │"
      ]
     },
     "execution_count": 3,
     "metadata": {},
     "output_type": "execute_result"
    }
   ],
   "source": [
    "describe(irisDataset)"
   ]
  },
  {
   "cell_type": "markdown",
   "metadata": {},
   "source": [
    "I extract the features and the labels from the dataframe."
   ]
  },
  {
   "cell_type": "code",
   "execution_count": 4,
   "metadata": {},
   "outputs": [
    {
     "name": "stdout",
     "output_type": "stream",
     "text": [
      "Size of X = (150, 4)\n",
      "Size of labels = (150,)\n"
     ]
    }
   ],
   "source": [
    "X = Matrix(irisDataset[:,1:4])\n",
    "labels = Vector(irisDataset[:, 5])\n",
    "\n",
    "println(\"Size of X = $(size(X))\")\n",
    "println(\"Size of labels = $(size(labels))\")"
   ]
  },
  {
   "cell_type": "markdown",
   "metadata": {},
   "source": [
    "#### Standarize the features"
   ]
  },
  {
   "cell_type": "markdown",
   "metadata": {},
   "source": [
    "Even though the different features have very similar ranges of values, I'm going to standarize the data."
   ]
  },
  {
   "cell_type": "code",
   "execution_count": 5,
   "metadata": {},
   "outputs": [
    {
     "data": {
      "text/plain": [
       "standarize! (generic function with 1 method)"
      ]
     },
     "execution_count": 5,
     "metadata": {},
     "output_type": "execute_result"
    }
   ],
   "source": [
    "using Statistics \n",
    "\n",
    "function standarize!(X)\n",
    "    for j = 1:size(X,2)\n",
    "        X[:,j] = (X[:,j] .- mean(X[:,j])) ./ std(X[:,j])\n",
    "    end\n",
    "    nothing    \n",
    "end"
   ]
  },
  {
   "cell_type": "code",
   "execution_count": 6,
   "metadata": {},
   "outputs": [],
   "source": [
    "standarize!(X)"
   ]
  },
  {
   "cell_type": "markdown",
   "metadata": {},
   "source": [
    "#### Encode the labels"
   ]
  },
  {
   "cell_type": "code",
   "execution_count": 7,
   "metadata": {},
   "outputs": [
    {
     "name": "stdout",
     "output_type": "stream",
     "text": [
      "unique(Y) = [1, 2, 3]\n",
      "size(Y) = (150,)\n"
     ]
    }
   ],
   "source": [
    "lm = labelmap(labels)\n",
    "Y = labelencode(lm, labels)\n",
    "@show unique(Y)\n",
    "@show size(Y);"
   ]
  },
  {
   "cell_type": "markdown",
   "metadata": {},
   "source": [
    "#### Obtain the 10-fold cross validation partitions"
   ]
  },
  {
   "cell_type": "code",
   "execution_count": 19,
   "metadata": {},
   "outputs": [
    {
     "ename": "LoadError",
     "evalue": "syntax: invalid identifier name \"?\"",
     "output_type": "error",
     "traceback": [
      "syntax: invalid identifier name \"?\"",
      ""
     ]
    }
   ],
   "source": [
    "K = 10\n",
    "n = size(Y,1);\n",
    "?KFold"
   ]
  },
  {
   "cell_type": "code",
   "execution_count": 20,
   "metadata": {},
   "outputs": [
    {
     "data": {
      "text/plain": [
       "10-element Array{Tuple{Array{Int64,1},Array{Int64,1}},1}:\n",
       " ([2, 3, 4, 5, 6, 8, 9, 10, 11, 12  …  139, 140, 141, 142, 143, 144, 146, 147, 148, 150], [40, 16, 22, 112, 134, 106, 90, 51, 149, 67, 111, 114, 1, 7, 145])\n",
       " ([1, 2, 3, 4, 5, 6, 7, 8, 9, 10  …  138, 141, 142, 143, 144, 145, 146, 148, 149, 150], [136, 80, 140, 15, 91, 92, 73, 133, 25, 36, 105, 99, 109, 147, 139])\n",
       " ([1, 4, 5, 6, 7, 8, 9, 10, 11, 12  …  139, 140, 142, 143, 144, 145, 146, 147, 148, 149], [3, 21, 33, 44, 85, 141, 2, 102, 81, 38, 86, 43, 24, 150, 126])\n",
       " ([1, 2, 3, 4, 5, 6, 7, 9, 10, 11  …  140, 141, 142, 143, 145, 146, 147, 148, 149, 150], [110, 47, 144, 97, 116, 37, 95, 89, 61, 26, 8, 113, 60, 55, 52])\n",
       " ([1, 2, 3, 4, 5, 6, 7, 8, 9, 10  …  140, 141, 142, 143, 144, 145, 147, 148, 149, 150], [88, 56, 117, 39, 146, 125, 49, 32, 69, 46, 130, 58, 77, 115, 20])\n",
       " ([1, 2, 3, 4, 5, 6, 7, 8, 11, 12  …  140, 141, 142, 143, 144, 145, 146, 147, 149, 150], [66, 30, 10, 148, 135, 9, 18, 35, 41, 45, 65, 19, 53, 124, 100])\n",
       " ([1, 2, 3, 4, 6, 7, 8, 9, 10, 11  …  141, 142, 143, 144, 145, 146, 147, 148, 149, 150], [98, 57, 68, 137, 31, 48, 87, 63, 118, 12, 50, 132, 82, 34, 5])\n",
       " ([1, 2, 3, 5, 6, 7, 8, 9, 10, 11  …  140, 141, 142, 144, 145, 146, 147, 148, 149, 150], [78, 70, 129, 127, 4, 96, 143, 76, 94, 123, 119, 42, 107, 28, 59])\n",
       " ([1, 2, 3, 4, 5, 7, 8, 9, 10, 11  …  140, 141, 143, 144, 145, 146, 147, 148, 149, 150], [84, 103, 108, 14, 142, 75, 121, 23, 17, 62, 122, 128, 74, 6, 72])\n",
       " ([1, 2, 3, 4, 5, 6, 7, 8, 9, 10  …  141, 142, 143, 144, 145, 146, 147, 148, 149, 150], [13, 64, 71, 79, 120, 11, 138, 27, 29, 101, 93, 83, 54, 104, 131])"
      ]
     },
     "execution_count": 20,
     "metadata": {},
     "output_type": "execute_result"
    }
   ],
   "source": [
    "kf = KFold(n, n_folds=K, shuffle=true, random_state=1)"
   ]
  },
  {
   "cell_type": "code",
   "execution_count": 22,
   "metadata": {},
   "outputs": [
    {
     "data": {
      "text/plain": [
       "([2, 3, 4, 5, 6, 8, 9, 10, 11, 12  …  139, 140, 141, 142, 143, 144, 146, 147, 148, 150], [40, 16, 22, 112, 134, 106, 90, 51, 149, 67, 111, 114, 1, 7, 145])"
      ]
     },
     "execution_count": 22,
     "metadata": {},
     "output_type": "execute_result"
    }
   ],
   "source": [
    "kf[1]\n"
   ]
  },
  {
   "cell_type": "markdown",
   "metadata": {},
   "source": [
    "#### Define an accuracy function"
   ]
  },
  {
   "cell_type": "code",
   "execution_count": 63,
   "metadata": {},
   "outputs": [
    {
     "data": {
      "text/plain": [
       "hit_rate (generic function with 1 method)"
      ]
     },
     "execution_count": 63,
     "metadata": {},
     "output_type": "execute_result"
    }
   ],
   "source": [
    "function hit_rate(Y, YPred)\n",
    "    sum(Y .== YPred) / size(Y,1)\n",
    "end "
   ]
  },
  {
   "cell_type": "code",
   "execution_count": 11,
   "metadata": {},
   "outputs": [
    {
     "data": {
      "text/plain": [
       "Dict{Any,Any} with 0 entries"
      ]
     },
     "execution_count": 11,
     "metadata": {},
     "output_type": "execute_result"
    }
   ],
   "source": [
    "accuracy = Dict()"
   ]
  },
  {
   "cell_type": "markdown",
   "metadata": {},
   "source": [
    "## Method 1: Support Vector Machine"
   ]
  },
  {
   "cell_type": "code",
   "execution_count": 24,
   "metadata": {},
   "outputs": [
    {
     "data": {
      "text/plain": [
       "0.9666666666666668"
      ]
     },
     "execution_count": 24,
     "metadata": {},
     "output_type": "execute_result"
    }
   ],
   "source": [
    "svmScores = []\n",
    "\n",
    "allInd = Set(Array(1:size(Y,1)))\n",
    "\n",
    "for (train, test) in kf    \n",
    "    Xtrain = X[train, :]\n",
    "    Xtest = X[test, :]\n",
    "    Ytrain = Y[train]\n",
    "    Ytest = Y[test]\n",
    "    \n",
    "    # Train model \n",
    "    model = svmtrain(Xtrain', Ytrain)\n",
    "    # Make predictions\n",
    "    Ypred, decisionValues = svmpredict(model, Xtest')\n",
    "    # Save hit rate of the fold\n",
    "    push!(svmScores, hit_rate(Ytest, Ypred))\n",
    "end\n",
    "\n",
    "accuracy[\"SVM\"] = mean(svmScores)"
   ]
  },
  {
   "cell_type": "markdown",
   "metadata": {},
   "source": [
    "## Method 2: 5 Nearest Neighbours"
   ]
  },
  {
   "cell_type": "code",
   "execution_count": 25,
   "metadata": {},
   "outputs": [
    {
     "data": {
      "text/plain": [
       "0.9466666666666669"
      ]
     },
     "execution_count": 25,
     "metadata": {},
     "output_type": "execute_result"
    }
   ],
   "source": [
    "k = 5\n",
    "knnScores = []\n",
    "\n",
    "allInd = Set(Array(1:size(Y,1)))\n",
    "\n",
    "for (train, test) in kf    \n",
    "    Xtrain = X[train, :]\n",
    "    Xtest = X[test, :]\n",
    "    Ytrain = Y[train]\n",
    "    Ytest = Y[test]\n",
    "    \n",
    "    # Train KDTree\n",
    "    kdtree = KDTree(Xtrain')\n",
    "    \n",
    "    indxs, dists = knn(kdtree, Xtest', k, true)\n",
    "    c = Ytrain[hcat(indxs...)]\n",
    "    labels = map(i->counter(c[:,i]),1:size(c,2))\n",
    "    # Make predictions\n",
    "    Ypred = map(i->parse(Int,string(argmax(DataFrame(labels[i])[1,:]))),\n",
    "                1:size(c,2))\n",
    "    # Sabe hit rate\n",
    "    push!(knnScores, hit_rate(Ypred, Ytest))\n",
    "end\n",
    "\n",
    "accuracy[\"$(k)NN\"] = mean(knnScores)\n",
    "  "
   ]
  },
  {
   "cell_type": "markdown",
   "metadata": {},
   "source": [
    "## Method 3: Decision Trees"
   ]
  },
  {
   "cell_type": "code",
   "execution_count": 55,
   "metadata": {},
   "outputs": [
    {
     "data": {
      "text/plain": [
       "0.9133333333333334"
      ]
     },
     "execution_count": 55,
     "metadata": {},
     "output_type": "execute_result"
    }
   ],
   "source": [
    "dtScores = [] \n",
    "\n",
    "for (train, test) in kf    \n",
    "    Xtrain = X[train, :]\n",
    "    Xtest = X[test, :]\n",
    "    Ytrain = Y[train]\n",
    "    Ytest = Y[test]\n",
    "    \n",
    "    # Create and fit model \n",
    "    model = DecisionTreeClassifier(max_depth=2)\n",
    "    DecisionTree.fit!(model, Xtrain, Ytrain)\n",
    "    \n",
    "    # Print the tree \n",
    "    #print_tree(model, 5)\n",
    "    \n",
    "    # Make predictions\n",
    "    Ypred = DecisionTree.predict(model, Xtest)\n",
    "    \n",
    "    # Save hit rate \n",
    "    push!(dtScores, hit_rate(Ypred, Ytest))    \n",
    "    \n",
    "end\n",
    "\n",
    "accuracy[\"DecisionTree\"] = mean(dtScores)"
   ]
  },
  {
   "cell_type": "markdown",
   "metadata": {},
   "source": [
    "For the models in ScikitLearn (DecisionTree, RandomForest, ...) the Cross Validation can be done easier using the ScikitLearn.CrossValidation: cross_val_score function."
   ]
  },
  {
   "cell_type": "code",
   "execution_count": 57,
   "metadata": {},
   "outputs": [
    {
     "data": {
      "text/plain": [
       "5-element Array{Float64,1}:\n",
       " 0.9333333333333333\n",
       " 0.9666666666666667\n",
       " 0.9\n",
       " 0.8666666666666667\n",
       " 1.0"
      ]
     },
     "execution_count": 57,
     "metadata": {},
     "output_type": "execute_result"
    }
   ],
   "source": [
    "model = DecisionTreeClassifier(max_depth=2)\n",
    "cross_val_score(model, X, Y. cv=5)"
   ]
  },
  {
   "cell_type": "markdown",
   "metadata": {},
   "source": [
    "## Method 4: Random Forest"
   ]
  },
  {
   "cell_type": "code",
   "execution_count": 61,
   "metadata": {},
   "outputs": [
    {
     "data": {
      "text/plain": [
       "0.9666666666666668"
      ]
     },
     "execution_count": 61,
     "metadata": {},
     "output_type": "execute_result"
    }
   ],
   "source": [
    "model = RandomForestClassifier(n_trees=10) \n",
    "accuracy[\"RandomForest(10)\"] = mean(cross_val_score(model, X, Y, cv=10))"
   ]
  },
  {
   "cell_type": "markdown",
   "metadata": {},
   "source": [
    "## Comparison"
   ]
  },
  {
   "cell_type": "code",
   "execution_count": 62,
   "metadata": {},
   "outputs": [
    {
     "data": {
      "image/svg+xml": [
       "<?xml version=\"1.0\" encoding=\"utf-8\"?>\n",
       "<svg xmlns=\"http://www.w3.org/2000/svg\" xmlns:xlink=\"http://www.w3.org/1999/xlink\" width=\"600\" height=\"400\" viewBox=\"0 0 2400 1600\">\n",
       "<defs>\n",
       "  <clipPath id=\"clip580\">\n",
       "    <rect x=\"0\" y=\"0\" width=\"2400\" height=\"1600\"/>\n",
       "  </clipPath>\n",
       "</defs>\n",
       "<path clip-path=\"url(#clip580)\" d=\"\n",
       "M0 1600 L2400 1600 L2400 0 L0 0  Z\n",
       "  \" fill=\"#ffffff\" fill-rule=\"evenodd\" fill-opacity=\"1\"/>\n",
       "<defs>\n",
       "  <clipPath id=\"clip581\">\n",
       "    <rect x=\"480\" y=\"0\" width=\"1681\" height=\"1600\"/>\n",
       "  </clipPath>\n",
       "</defs>\n",
       "<path clip-path=\"url(#clip580)\" d=\"\n",
       "M148.334 1486.45 L2352.76 1486.45 L2352.76 47.2441 L148.334 47.2441  Z\n",
       "  \" fill=\"#ffffff\" fill-rule=\"evenodd\" fill-opacity=\"1\"/>\n",
       "<defs>\n",
       "  <clipPath id=\"clip582\">\n",
       "    <rect x=\"148\" y=\"47\" width=\"2205\" height=\"1440\"/>\n",
       "  </clipPath>\n",
       "</defs>\n",
       "<polyline clip-path=\"url(#clip582)\" style=\"stroke:#000000; stroke-width:2; stroke-opacity:0.1; fill:none\" points=\"\n",
       "  476.1,1486.45 476.1,47.2441 \n",
       "  \"/>\n",
       "<polyline clip-path=\"url(#clip582)\" style=\"stroke:#000000; stroke-width:2; stroke-opacity:0.1; fill:none\" points=\"\n",
       "  992.397,1486.45 992.397,47.2441 \n",
       "  \"/>\n",
       "<polyline clip-path=\"url(#clip582)\" style=\"stroke:#000000; stroke-width:2; stroke-opacity:0.1; fill:none\" points=\"\n",
       "  1508.69,1486.45 1508.69,47.2441 \n",
       "  \"/>\n",
       "<polyline clip-path=\"url(#clip582)\" style=\"stroke:#000000; stroke-width:2; stroke-opacity:0.1; fill:none\" points=\"\n",
       "  2024.99,1486.45 2024.99,47.2441 \n",
       "  \"/>\n",
       "<polyline clip-path=\"url(#clip582)\" style=\"stroke:#000000; stroke-width:2; stroke-opacity:0.1; fill:none\" points=\"\n",
       "  148.334,1445.72 2352.76,1445.72 \n",
       "  \"/>\n",
       "<polyline clip-path=\"url(#clip582)\" style=\"stroke:#000000; stroke-width:2; stroke-opacity:0.1; fill:none\" points=\"\n",
       "  148.334,1164.8 2352.76,1164.8 \n",
       "  \"/>\n",
       "<polyline clip-path=\"url(#clip582)\" style=\"stroke:#000000; stroke-width:2; stroke-opacity:0.1; fill:none\" points=\"\n",
       "  148.334,883.892 2352.76,883.892 \n",
       "  \"/>\n",
       "<polyline clip-path=\"url(#clip582)\" style=\"stroke:#000000; stroke-width:2; stroke-opacity:0.1; fill:none\" points=\"\n",
       "  148.334,602.981 2352.76,602.981 \n",
       "  \"/>\n",
       "<polyline clip-path=\"url(#clip582)\" style=\"stroke:#000000; stroke-width:2; stroke-opacity:0.1; fill:none\" points=\"\n",
       "  148.334,322.069 2352.76,322.069 \n",
       "  \"/>\n",
       "<polyline clip-path=\"url(#clip580)\" style=\"stroke:#000000; stroke-width:4; stroke-opacity:1; fill:none\" points=\"\n",
       "  148.334,1486.45 2352.76,1486.45 \n",
       "  \"/>\n",
       "<polyline clip-path=\"url(#clip580)\" style=\"stroke:#000000; stroke-width:4; stroke-opacity:1; fill:none\" points=\"\n",
       "  148.334,1486.45 148.334,47.2441 \n",
       "  \"/>\n",
       "<polyline clip-path=\"url(#clip580)\" style=\"stroke:#000000; stroke-width:4; stroke-opacity:1; fill:none\" points=\"\n",
       "  476.1,1486.45 476.1,1469.18 \n",
       "  \"/>\n",
       "<polyline clip-path=\"url(#clip580)\" style=\"stroke:#000000; stroke-width:4; stroke-opacity:1; fill:none\" points=\"\n",
       "  992.397,1486.45 992.397,1469.18 \n",
       "  \"/>\n",
       "<polyline clip-path=\"url(#clip580)\" style=\"stroke:#000000; stroke-width:4; stroke-opacity:1; fill:none\" points=\"\n",
       "  1508.69,1486.45 1508.69,1469.18 \n",
       "  \"/>\n",
       "<polyline clip-path=\"url(#clip580)\" style=\"stroke:#000000; stroke-width:4; stroke-opacity:1; fill:none\" points=\"\n",
       "  2024.99,1486.45 2024.99,1469.18 \n",
       "  \"/>\n",
       "<polyline clip-path=\"url(#clip580)\" style=\"stroke:#000000; stroke-width:4; stroke-opacity:1; fill:none\" points=\"\n",
       "  148.334,1445.72 174.787,1445.72 \n",
       "  \"/>\n",
       "<polyline clip-path=\"url(#clip580)\" style=\"stroke:#000000; stroke-width:4; stroke-opacity:1; fill:none\" points=\"\n",
       "  148.334,1164.8 174.787,1164.8 \n",
       "  \"/>\n",
       "<polyline clip-path=\"url(#clip580)\" style=\"stroke:#000000; stroke-width:4; stroke-opacity:1; fill:none\" points=\"\n",
       "  148.334,883.892 174.787,883.892 \n",
       "  \"/>\n",
       "<polyline clip-path=\"url(#clip580)\" style=\"stroke:#000000; stroke-width:4; stroke-opacity:1; fill:none\" points=\"\n",
       "  148.334,602.981 174.787,602.981 \n",
       "  \"/>\n",
       "<polyline clip-path=\"url(#clip580)\" style=\"stroke:#000000; stroke-width:4; stroke-opacity:1; fill:none\" points=\"\n",
       "  148.334,322.069 174.787,322.069 \n",
       "  \"/>\n",
       "<path clip-path=\"url(#clip580)\" d=\"M 0 0 M452.026 1506.49 L452.026 1511.05 Q449.364 1509.78 447.003 1509.16 Q444.642 1508.53 442.443 1508.53 Q438.624 1508.53 436.54 1510.01 Q434.48 1511.49 434.48 1514.23 Q434.48 1516.52 435.846 1517.7 Q437.235 1518.86 441.077 1519.57 L443.901 1520.15 Q449.133 1521.15 451.61 1523.67 Q454.11 1526.17 454.11 1530.38 Q454.11 1535.41 450.73 1538 Q447.373 1540.59 440.869 1540.59 Q438.415 1540.59 435.637 1540.04 Q432.883 1539.48 429.92 1538.39 L429.92 1533.58 Q432.767 1535.17 435.499 1535.98 Q438.23 1536.79 440.869 1536.79 Q444.873 1536.79 447.049 1535.22 Q449.225 1533.65 449.225 1530.73 Q449.225 1528.18 447.651 1526.75 Q446.1 1525.31 442.536 1524.6 L439.688 1524.04 Q434.457 1523 432.119 1520.78 Q429.781 1518.55 429.781 1514.6 Q429.781 1510.01 432.999 1507.37 Q436.239 1504.73 441.911 1504.73 Q444.341 1504.73 446.864 1505.17 Q449.387 1505.61 452.026 1506.49 Z\" fill=\"#000000\" fill-rule=\"evenodd\" fill-opacity=\"1\" /><path clip-path=\"url(#clip580)\" d=\"M 0 0 M467.674 1539.92 L454.48 1505.36 L459.364 1505.36 L470.313 1534.46 L481.285 1505.36 L486.146 1505.36 L472.975 1539.92 L467.674 1539.92 Z\" fill=\"#000000\" fill-rule=\"evenodd\" fill-opacity=\"1\" /><path clip-path=\"url(#clip580)\" d=\"M 0 0 M490.799 1505.36 L497.767 1505.36 L506.586 1528.88 L515.452 1505.36 L522.419 1505.36 L522.419 1539.92 L517.859 1539.92 L517.859 1509.57 L508.947 1533.28 L504.248 1533.28 L495.336 1509.57 L495.336 1539.92 L490.799 1539.92 L490.799 1505.36 Z\" fill=\"#000000\" fill-rule=\"evenodd\" fill-opacity=\"1\" /><path clip-path=\"url(#clip580)\" d=\"M 0 0 M951.865 1505.36 L970.221 1505.36 L970.221 1509.3 L956.147 1509.3 L956.147 1517.77 Q957.166 1517.42 958.184 1517.26 Q959.203 1517.07 960.221 1517.07 Q966.008 1517.07 969.388 1520.24 Q972.767 1523.42 972.767 1528.83 Q972.767 1534.41 969.295 1537.51 Q965.823 1540.59 959.503 1540.59 Q957.328 1540.59 955.059 1540.22 Q952.814 1539.85 950.406 1539.11 L950.406 1534.41 Q952.49 1535.54 954.712 1536.1 Q956.934 1536.66 959.411 1536.66 Q963.415 1536.66 965.753 1534.55 Q968.091 1532.44 968.091 1528.83 Q968.091 1525.22 965.753 1523.11 Q963.415 1521.01 959.411 1521.01 Q957.536 1521.01 955.661 1521.42 Q953.809 1521.84 951.865 1522.72 L951.865 1505.36 Z\" fill=\"#000000\" fill-rule=\"evenodd\" fill-opacity=\"1\" /><path clip-path=\"url(#clip580)\" d=\"M 0 0 M977.42 1505.36 L983.716 1505.36 L999.04 1534.27 L999.04 1505.36 L1003.58 1505.36 L1003.58 1539.92 L997.281 1539.92 L981.957 1511.01 L981.957 1539.92 L977.42 1539.92 L977.42 1505.36 Z\" fill=\"#000000\" fill-rule=\"evenodd\" fill-opacity=\"1\" /><path clip-path=\"url(#clip580)\" d=\"M 0 0 M1008.23 1505.36 L1014.53 1505.36 L1029.85 1534.27 L1029.85 1505.36 L1034.39 1505.36 L1034.39 1539.92 L1028.09 1539.92 L1012.77 1511.01 L1012.77 1539.92 L1008.23 1539.92 L1008.23 1505.36 Z\" fill=\"#000000\" fill-rule=\"evenodd\" fill-opacity=\"1\" /><path clip-path=\"url(#clip580)\" d=\"M 0 0 M1380.89 1509.2 L1380.89 1536.08 L1386.54 1536.08 Q1393.69 1536.08 1397 1532.84 Q1400.34 1529.6 1400.34 1522.61 Q1400.34 1515.66 1397 1512.44 Q1393.69 1509.2 1386.54 1509.2 L1380.89 1509.2 M1376.22 1505.36 L1385.82 1505.36 Q1395.87 1505.36 1400.57 1509.55 Q1405.27 1513.72 1405.27 1522.61 Q1405.27 1531.54 1400.55 1535.73 Q1395.82 1539.92 1385.82 1539.92 L1376.22 1539.92 L1376.22 1505.36 Z\" fill=\"#000000\" fill-rule=\"evenodd\" fill-opacity=\"1\" /><path clip-path=\"url(#clip580)\" d=\"M 0 0 M1431.91 1525.89 L1431.91 1527.98 L1412.33 1527.98 Q1412.61 1532.37 1414.97 1534.69 Q1417.35 1536.98 1421.59 1536.98 Q1424.04 1536.98 1426.33 1536.38 Q1428.65 1535.78 1430.92 1534.57 L1430.92 1538.6 Q1428.62 1539.57 1426.22 1540.08 Q1423.81 1540.59 1421.33 1540.59 Q1415.13 1540.59 1411.49 1536.98 Q1407.88 1533.37 1407.88 1527.21 Q1407.88 1520.85 1411.31 1517.12 Q1414.76 1513.37 1420.59 1513.37 Q1425.82 1513.37 1428.86 1516.75 Q1431.91 1520.11 1431.91 1525.89 M1427.65 1524.64 Q1427.61 1521.15 1425.68 1519.06 Q1423.79 1516.98 1420.64 1516.98 Q1417.07 1516.98 1414.92 1518.99 Q1412.79 1521.01 1412.47 1524.67 L1427.65 1524.64 Z\" fill=\"#000000\" fill-rule=\"evenodd\" fill-opacity=\"1\" /><path clip-path=\"url(#clip580)\" d=\"M 0 0 M1455.04 1514.99 L1455.04 1518.97 Q1453.23 1517.98 1451.4 1517.49 Q1449.6 1516.98 1447.74 1516.98 Q1443.6 1516.98 1441.31 1519.62 Q1439.02 1522.23 1439.02 1526.98 Q1439.02 1531.73 1441.31 1534.36 Q1443.6 1536.98 1447.74 1536.98 Q1449.6 1536.98 1451.4 1536.49 Q1453.23 1535.98 1455.04 1534.99 L1455.04 1538.92 Q1453.25 1539.76 1451.33 1540.17 Q1449.43 1540.59 1447.28 1540.59 Q1441.43 1540.59 1437.98 1536.91 Q1434.53 1533.23 1434.53 1526.98 Q1434.53 1520.64 1438 1517 Q1441.49 1513.37 1447.56 1513.37 Q1449.53 1513.37 1451.4 1513.79 Q1453.28 1514.18 1455.04 1514.99 Z\" fill=\"#000000\" fill-rule=\"evenodd\" fill-opacity=\"1\" /><path clip-path=\"url(#clip580)\" d=\"M 0 0 M1459.5 1513.99 L1463.76 1513.99 L1463.76 1539.92 L1459.5 1539.92 L1459.5 1513.99 M1459.5 1503.9 L1463.76 1503.9 L1463.76 1509.3 L1459.5 1509.3 L1459.5 1503.9 Z\" fill=\"#000000\" fill-rule=\"evenodd\" fill-opacity=\"1\" /><path clip-path=\"url(#clip580)\" d=\"M 0 0 M1484.76 1514.76 L1484.76 1518.79 Q1482.95 1517.86 1481.01 1517.4 Q1479.06 1516.93 1476.98 1516.93 Q1473.81 1516.93 1472.21 1517.91 Q1470.64 1518.88 1470.64 1520.82 Q1470.64 1522.3 1471.77 1523.16 Q1472.91 1523.99 1476.33 1524.76 L1477.79 1525.08 Q1482.33 1526.05 1484.23 1527.84 Q1486.15 1529.6 1486.15 1532.77 Q1486.15 1536.38 1483.28 1538.48 Q1480.43 1540.59 1475.43 1540.59 Q1473.35 1540.59 1471.08 1540.17 Q1468.83 1539.78 1466.33 1538.97 L1466.33 1534.57 Q1468.69 1535.8 1470.99 1536.42 Q1473.28 1537.03 1475.52 1537.03 Q1478.53 1537.03 1480.15 1536.01 Q1481.77 1534.97 1481.77 1533.09 Q1481.77 1531.36 1480.59 1530.43 Q1479.43 1529.5 1475.48 1528.65 L1473.99 1528.3 Q1470.04 1527.47 1468.28 1525.75 Q1466.52 1524.02 1466.52 1521.01 Q1466.52 1517.35 1469.11 1515.36 Q1471.7 1513.37 1476.47 1513.37 Q1478.83 1513.37 1480.92 1513.72 Q1483 1514.06 1484.76 1514.76 Z\" fill=\"#000000\" fill-rule=\"evenodd\" fill-opacity=\"1\" /><path clip-path=\"url(#clip580)\" d=\"M 0 0 M1490.61 1513.99 L1494.87 1513.99 L1494.87 1539.92 L1490.61 1539.92 L1490.61 1513.99 M1490.61 1503.9 L1494.87 1503.9 L1494.87 1509.3 L1490.61 1509.3 L1490.61 1503.9 Z\" fill=\"#000000\" fill-rule=\"evenodd\" fill-opacity=\"1\" /><path clip-path=\"url(#clip580)\" d=\"M 0 0 M1509.39 1516.98 Q1505.96 1516.98 1503.97 1519.67 Q1501.98 1522.33 1501.98 1526.98 Q1501.98 1531.63 1503.95 1534.32 Q1505.94 1536.98 1509.39 1536.98 Q1512.79 1536.98 1514.78 1534.29 Q1516.77 1531.61 1516.77 1526.98 Q1516.77 1522.37 1514.78 1519.69 Q1512.79 1516.98 1509.39 1516.98 M1509.39 1513.37 Q1514.94 1513.37 1518.11 1516.98 Q1521.29 1520.59 1521.29 1526.98 Q1521.29 1533.35 1518.11 1536.98 Q1514.94 1540.59 1509.39 1540.59 Q1503.81 1540.59 1500.64 1536.98 Q1497.49 1533.35 1497.49 1526.98 Q1497.49 1520.59 1500.64 1516.98 Q1503.81 1513.37 1509.39 1513.37 Z\" fill=\"#000000\" fill-rule=\"evenodd\" fill-opacity=\"1\" /><path clip-path=\"url(#clip580)\" d=\"M 0 0 M1547.3 1524.27 L1547.3 1539.92 L1543.05 1539.92 L1543.05 1524.41 Q1543.05 1520.73 1541.61 1518.9 Q1540.17 1517.07 1537.3 1517.07 Q1533.86 1517.07 1531.86 1519.27 Q1529.87 1521.47 1529.87 1525.27 L1529.87 1539.92 L1525.59 1539.92 L1525.59 1513.99 L1529.87 1513.99 L1529.87 1518.02 Q1531.4 1515.68 1533.46 1514.53 Q1535.55 1513.37 1538.25 1513.37 Q1542.72 1513.37 1545.01 1516.15 Q1547.3 1518.9 1547.3 1524.27 Z\" fill=\"#000000\" fill-rule=\"evenodd\" fill-opacity=\"1\" /><path clip-path=\"url(#clip580)\" d=\"M 0 0 M1547.17 1505.36 L1576.4 1505.36 L1576.4 1509.3 L1564.13 1509.3 L1564.13 1539.92 L1559.43 1539.92 L1559.43 1509.3 L1547.17 1509.3 L1547.17 1505.36 Z\" fill=\"#000000\" fill-rule=\"evenodd\" fill-opacity=\"1\" /><path clip-path=\"url(#clip580)\" d=\"M 0 0 M1588.92 1517.98 Q1588.21 1517.56 1587.35 1517.37 Q1586.52 1517.17 1585.5 1517.17 Q1581.89 1517.17 1579.94 1519.53 Q1578.02 1521.86 1578.02 1526.26 L1578.02 1539.92 L1573.74 1539.92 L1573.74 1513.99 L1578.02 1513.99 L1578.02 1518.02 Q1579.36 1515.66 1581.52 1514.53 Q1583.67 1513.37 1586.75 1513.37 Q1587.19 1513.37 1587.72 1513.44 Q1588.25 1513.48 1588.9 1513.6 L1588.92 1517.98 Z\" fill=\"#000000\" fill-rule=\"evenodd\" fill-opacity=\"1\" /><path clip-path=\"url(#clip580)\" d=\"M 0 0 M1614.53 1525.89 L1614.53 1527.98 L1594.94 1527.98 Q1595.22 1532.37 1597.58 1534.69 Q1599.97 1536.98 1604.2 1536.98 Q1606.66 1536.98 1608.95 1536.38 Q1611.26 1535.78 1613.53 1534.57 L1613.53 1538.6 Q1611.24 1539.57 1608.83 1540.08 Q1606.42 1540.59 1603.95 1540.59 Q1597.74 1540.59 1594.11 1536.98 Q1590.5 1533.37 1590.5 1527.21 Q1590.5 1520.85 1593.92 1517.12 Q1597.37 1513.37 1603.21 1513.37 Q1608.44 1513.37 1611.47 1516.75 Q1614.53 1520.11 1614.53 1525.89 M1610.27 1524.64 Q1610.22 1521.15 1608.3 1519.06 Q1606.4 1516.98 1603.25 1516.98 Q1599.69 1516.98 1597.54 1518.99 Q1595.41 1521.01 1595.08 1524.67 L1610.27 1524.64 Z\" fill=\"#000000\" fill-rule=\"evenodd\" fill-opacity=\"1\" /><path clip-path=\"url(#clip580)\" d=\"M 0 0 M1641.17 1525.89 L1641.17 1527.98 L1621.59 1527.98 Q1621.86 1532.37 1624.23 1534.69 Q1626.61 1536.98 1630.85 1536.98 Q1633.3 1536.98 1635.59 1536.38 Q1637.91 1535.78 1640.17 1534.57 L1640.17 1538.6 Q1637.88 1539.57 1635.48 1540.08 Q1633.07 1540.59 1630.59 1540.59 Q1624.39 1540.59 1620.75 1536.98 Q1617.14 1533.37 1617.14 1527.21 Q1617.14 1520.85 1620.57 1517.12 Q1624.02 1513.37 1629.85 1513.37 Q1635.08 1513.37 1638.11 1516.75 Q1641.17 1520.11 1641.17 1525.89 M1636.91 1524.64 Q1636.86 1521.15 1634.94 1519.06 Q1633.04 1516.98 1629.9 1516.98 Q1626.33 1516.98 1624.18 1518.99 Q1622.05 1521.01 1621.73 1524.67 L1636.91 1524.64 Z\" fill=\"#000000\" fill-rule=\"evenodd\" fill-opacity=\"1\" /><path clip-path=\"url(#clip580)\" d=\"M 0 0 M1847.84 1523.72 Q1849.34 1524.23 1850.75 1525.89 Q1852.19 1527.56 1853.63 1530.48 L1858.37 1539.92 L1853.35 1539.92 L1848.93 1531.05 Q1847.21 1527.58 1845.59 1526.45 Q1844 1525.31 1841.22 1525.31 L1836.13 1525.31 L1836.13 1539.92 L1831.45 1539.92 L1831.45 1505.36 L1842.01 1505.36 Q1847.93 1505.36 1850.85 1507.84 Q1853.76 1510.31 1853.76 1515.31 Q1853.76 1518.58 1852.24 1520.73 Q1850.73 1522.88 1847.84 1523.72 M1836.13 1509.2 L1836.13 1521.47 L1842.01 1521.47 Q1845.38 1521.47 1847.1 1519.92 Q1848.83 1518.35 1848.83 1515.31 Q1848.83 1512.28 1847.1 1510.75 Q1845.38 1509.2 1842.01 1509.2 L1836.13 1509.2 Z\" fill=\"#000000\" fill-rule=\"evenodd\" fill-opacity=\"1\" /><path clip-path=\"url(#clip580)\" d=\"M 0 0 M1873.58 1526.89 Q1868.42 1526.89 1866.43 1528.07 Q1864.44 1529.25 1864.44 1532.1 Q1864.44 1534.36 1865.92 1535.71 Q1867.42 1537.03 1869.99 1537.03 Q1873.53 1537.03 1875.66 1534.53 Q1877.81 1532 1877.81 1527.84 L1877.81 1526.89 L1873.58 1526.89 M1882.07 1525.13 L1882.07 1539.92 L1877.81 1539.92 L1877.81 1535.98 Q1876.36 1538.35 1874.18 1539.48 Q1872 1540.59 1868.86 1540.59 Q1864.88 1540.59 1862.51 1538.37 Q1860.18 1536.12 1860.18 1532.37 Q1860.18 1528 1863.09 1525.78 Q1866.03 1523.55 1871.84 1523.55 L1877.81 1523.55 L1877.81 1523.14 Q1877.81 1520.2 1875.87 1518.6 Q1873.95 1516.98 1870.45 1516.98 Q1868.23 1516.98 1866.13 1517.51 Q1864.02 1518.04 1862.07 1519.11 L1862.07 1515.17 Q1864.41 1514.27 1866.61 1513.83 Q1868.81 1513.37 1870.89 1513.37 Q1876.52 1513.37 1879.3 1516.29 Q1882.07 1519.2 1882.07 1525.13 Z\" fill=\"#000000\" fill-rule=\"evenodd\" fill-opacity=\"1\" /><path clip-path=\"url(#clip580)\" d=\"M 0 0 M1908.09 1524.27 L1908.09 1539.92 L1903.83 1539.92 L1903.83 1524.41 Q1903.83 1520.73 1902.4 1518.9 Q1900.96 1517.07 1898.09 1517.07 Q1894.64 1517.07 1892.65 1519.27 Q1890.66 1521.47 1890.66 1525.27 L1890.66 1539.92 L1886.38 1539.92 L1886.38 1513.99 L1890.66 1513.99 L1890.66 1518.02 Q1892.19 1515.68 1894.25 1514.53 Q1896.33 1513.37 1899.04 1513.37 Q1903.51 1513.37 1905.8 1516.15 Q1908.09 1518.9 1908.09 1524.27 Z\" fill=\"#000000\" fill-rule=\"evenodd\" fill-opacity=\"1\" /><path clip-path=\"url(#clip580)\" d=\"M 0 0 M1929.62 1517.93 L1929.62 1503.9 L1933.88 1503.9 L1933.88 1539.92 L1929.62 1539.92 L1929.62 1536.03 Q1928.28 1538.35 1926.22 1539.48 Q1924.18 1540.59 1921.31 1540.59 Q1916.61 1540.59 1913.65 1536.84 Q1910.71 1533.09 1910.71 1526.98 Q1910.71 1520.87 1913.65 1517.12 Q1916.61 1513.37 1921.31 1513.37 Q1924.18 1513.37 1926.22 1514.5 Q1928.28 1515.61 1929.62 1517.93 M1915.11 1526.98 Q1915.11 1531.68 1917.03 1534.36 Q1918.97 1537.03 1922.35 1537.03 Q1925.73 1537.03 1927.68 1534.36 Q1929.62 1531.68 1929.62 1526.98 Q1929.62 1522.28 1927.68 1519.62 Q1925.73 1516.93 1922.35 1516.93 Q1918.97 1516.93 1917.03 1519.62 Q1915.11 1522.28 1915.11 1526.98 Z\" fill=\"#000000\" fill-rule=\"evenodd\" fill-opacity=\"1\" /><path clip-path=\"url(#clip580)\" d=\"M 0 0 M1948.39 1516.98 Q1944.97 1516.98 1942.98 1519.67 Q1940.99 1522.33 1940.99 1526.98 Q1940.99 1531.63 1942.95 1534.32 Q1944.94 1536.98 1948.39 1536.98 Q1951.8 1536.98 1953.79 1534.29 Q1955.78 1531.61 1955.78 1526.98 Q1955.78 1522.37 1953.79 1519.69 Q1951.8 1516.98 1948.39 1516.98 M1948.39 1513.37 Q1953.95 1513.37 1957.12 1516.98 Q1960.29 1520.59 1960.29 1526.98 Q1960.29 1533.35 1957.12 1536.98 Q1953.95 1540.59 1948.39 1540.59 Q1942.81 1540.59 1939.64 1536.98 Q1936.5 1533.35 1936.5 1526.98 Q1936.5 1520.59 1939.64 1516.98 Q1942.81 1513.37 1948.39 1513.37 Z\" fill=\"#000000\" fill-rule=\"evenodd\" fill-opacity=\"1\" /><path clip-path=\"url(#clip580)\" d=\"M 0 0 M1984.94 1518.97 Q1986.54 1516.1 1988.76 1514.73 Q1990.99 1513.37 1993.99 1513.37 Q1998.05 1513.37 2000.24 1516.22 Q2002.44 1519.04 2002.44 1524.27 L2002.44 1539.92 L1998.16 1539.92 L1998.16 1524.41 Q1998.16 1520.68 1996.84 1518.88 Q1995.52 1517.07 1992.81 1517.07 Q1989.5 1517.07 1987.58 1519.27 Q1985.66 1521.47 1985.66 1525.27 L1985.66 1539.92 L1981.38 1539.92 L1981.38 1524.41 Q1981.38 1520.66 1980.06 1518.88 Q1978.74 1517.07 1975.99 1517.07 Q1972.72 1517.07 1970.8 1519.29 Q1968.88 1521.49 1968.88 1525.27 L1968.88 1539.92 L1964.6 1539.92 L1964.6 1513.99 L1968.88 1513.99 L1968.88 1518.02 Q1970.34 1515.64 1972.37 1514.5 Q1974.41 1513.37 1977.21 1513.37 Q1980.04 1513.37 1982 1514.8 Q1983.99 1516.24 1984.94 1518.97 Z\" fill=\"#000000\" fill-rule=\"evenodd\" fill-opacity=\"1\" /><path clip-path=\"url(#clip580)\" d=\"M 0 0 M2007.1 1505.36 L2026.96 1505.36 L2026.96 1509.3 L2011.77 1509.3 L2011.77 1519.48 L2025.48 1519.48 L2025.48 1523.42 L2011.77 1523.42 L2011.77 1539.92 L2007.1 1539.92 L2007.1 1505.36 Z\" fill=\"#000000\" fill-rule=\"evenodd\" fill-opacity=\"1\" /><path clip-path=\"url(#clip580)\" d=\"M 0 0 M2039.78 1516.98 Q2036.36 1516.98 2034.37 1519.67 Q2032.37 1522.33 2032.37 1526.98 Q2032.37 1531.63 2034.34 1534.32 Q2036.33 1536.98 2039.78 1536.98 Q2043.18 1536.98 2045.18 1534.29 Q2047.17 1531.61 2047.17 1526.98 Q2047.17 1522.37 2045.18 1519.69 Q2043.18 1516.98 2039.78 1516.98 M2039.78 1513.37 Q2045.34 1513.37 2048.51 1516.98 Q2051.68 1520.59 2051.68 1526.98 Q2051.68 1533.35 2048.51 1536.98 Q2045.34 1540.59 2039.78 1540.59 Q2034.2 1540.59 2031.03 1536.98 Q2027.88 1533.35 2027.88 1526.98 Q2027.88 1520.59 2031.03 1516.98 Q2034.2 1513.37 2039.78 1513.37 Z\" fill=\"#000000\" fill-rule=\"evenodd\" fill-opacity=\"1\" /><path clip-path=\"url(#clip580)\" d=\"M 0 0 M2071.17 1517.98 Q2070.45 1517.56 2069.6 1517.37 Q2068.76 1517.17 2067.74 1517.17 Q2064.13 1517.17 2062.19 1519.53 Q2060.27 1521.86 2060.27 1526.26 L2060.27 1539.92 L2055.99 1539.92 L2055.99 1513.99 L2060.27 1513.99 L2060.27 1518.02 Q2061.61 1515.66 2063.76 1514.53 Q2065.92 1513.37 2068.99 1513.37 Q2069.43 1513.37 2069.97 1513.44 Q2070.5 1513.48 2071.15 1513.6 L2071.17 1517.98 Z\" fill=\"#000000\" fill-rule=\"evenodd\" fill-opacity=\"1\" /><path clip-path=\"url(#clip580)\" d=\"M 0 0 M2096.77 1525.89 L2096.77 1527.98 L2077.19 1527.98 Q2077.47 1532.37 2079.83 1534.69 Q2082.21 1536.98 2086.45 1536.98 Q2088.9 1536.98 2091.19 1536.38 Q2093.51 1535.78 2095.78 1534.57 L2095.78 1538.6 Q2093.49 1539.57 2091.08 1540.08 Q2088.67 1540.59 2086.19 1540.59 Q2079.99 1540.59 2076.36 1536.98 Q2072.74 1533.37 2072.74 1527.21 Q2072.74 1520.85 2076.17 1517.12 Q2079.62 1513.37 2085.45 1513.37 Q2090.68 1513.37 2093.72 1516.75 Q2096.77 1520.11 2096.77 1525.89 M2092.51 1524.64 Q2092.47 1521.15 2090.55 1519.06 Q2088.65 1516.98 2085.5 1516.98 Q2081.93 1516.98 2079.78 1518.99 Q2077.65 1521.01 2077.33 1524.67 L2092.51 1524.64 Z\" fill=\"#000000\" fill-rule=\"evenodd\" fill-opacity=\"1\" /><path clip-path=\"url(#clip580)\" d=\"M 0 0 M2117.77 1514.76 L2117.77 1518.79 Q2115.96 1517.86 2114.02 1517.4 Q2112.07 1516.93 2109.99 1516.93 Q2106.82 1516.93 2105.22 1517.91 Q2103.65 1518.88 2103.65 1520.82 Q2103.65 1522.3 2104.78 1523.16 Q2105.92 1523.99 2109.34 1524.76 L2110.8 1525.08 Q2115.34 1526.05 2117.24 1527.84 Q2119.16 1529.6 2119.16 1532.77 Q2119.16 1536.38 2116.29 1538.48 Q2113.44 1540.59 2108.44 1540.59 Q2106.36 1540.59 2104.09 1540.17 Q2101.84 1539.78 2099.34 1538.97 L2099.34 1534.57 Q2101.7 1535.8 2103.99 1536.42 Q2106.29 1537.03 2108.53 1537.03 Q2111.54 1537.03 2113.16 1536.01 Q2114.78 1534.97 2114.78 1533.09 Q2114.78 1531.36 2113.6 1530.43 Q2112.44 1529.5 2108.49 1528.65 L2107 1528.3 Q2103.05 1527.47 2101.29 1525.75 Q2099.53 1524.02 2099.53 1521.01 Q2099.53 1517.35 2102.12 1515.36 Q2104.71 1513.37 2109.48 1513.37 Q2111.84 1513.37 2113.92 1513.72 Q2116.01 1514.06 2117.77 1514.76 Z\" fill=\"#000000\" fill-rule=\"evenodd\" fill-opacity=\"1\" /><path clip-path=\"url(#clip580)\" d=\"M 0 0 M2127.84 1506.63 L2127.84 1513.99 L2136.61 1513.99 L2136.61 1517.3 L2127.84 1517.3 L2127.84 1531.38 Q2127.84 1534.55 2128.69 1535.45 Q2129.57 1536.36 2132.23 1536.36 L2136.61 1536.36 L2136.61 1539.92 L2132.23 1539.92 Q2127.3 1539.92 2125.43 1538.09 Q2123.55 1536.24 2123.55 1531.38 L2123.55 1517.3 L2120.43 1517.3 L2120.43 1513.99 L2123.55 1513.99 L2123.55 1506.63 L2127.84 1506.63 Z\" fill=\"#000000\" fill-rule=\"evenodd\" fill-opacity=\"1\" /><path clip-path=\"url(#clip580)\" d=\"M 0 0 M2151.31 1503.95 Q2148.21 1509.27 2146.7 1514.48 Q2145.2 1519.69 2145.2 1525.04 Q2145.2 1530.38 2146.7 1535.64 Q2148.23 1540.87 2151.31 1546.17 L2147.61 1546.17 Q2144.13 1540.73 2142.4 1535.48 Q2140.68 1530.22 2140.68 1525.04 Q2140.68 1519.87 2142.4 1514.64 Q2144.11 1509.41 2147.61 1503.95 L2151.31 1503.95 Z\" fill=\"#000000\" fill-rule=\"evenodd\" fill-opacity=\"1\" /><path clip-path=\"url(#clip580)\" d=\"M 0 0 M2157.19 1535.98 L2164.83 1535.98 L2164.83 1509.62 L2156.52 1511.29 L2156.52 1507.03 L2164.78 1505.36 L2169.46 1505.36 L2169.46 1535.98 L2177.1 1535.98 L2177.1 1539.92 L2157.19 1539.92 L2157.19 1535.98 Z\" fill=\"#000000\" fill-rule=\"evenodd\" fill-opacity=\"1\" /><path clip-path=\"url(#clip580)\" d=\"M 0 0 M2192.17 1508.44 Q2188.55 1508.44 2186.73 1512 Q2184.92 1515.55 2184.92 1522.67 Q2184.92 1529.78 2186.73 1533.35 Q2188.55 1536.89 2192.17 1536.89 Q2195.8 1536.89 2197.6 1533.35 Q2199.43 1529.78 2199.43 1522.67 Q2199.43 1515.55 2197.6 1512 Q2195.8 1508.44 2192.17 1508.44 M2192.17 1504.73 Q2197.98 1504.73 2201.03 1509.34 Q2204.11 1513.92 2204.11 1522.67 Q2204.11 1531.4 2201.03 1536.01 Q2197.98 1540.59 2192.17 1540.59 Q2186.36 1540.59 2183.28 1536.01 Q2180.22 1531.4 2180.22 1522.67 Q2180.22 1513.92 2183.28 1509.34 Q2186.36 1504.73 2192.17 1504.73 Z\" fill=\"#000000\" fill-rule=\"evenodd\" fill-opacity=\"1\" /><path clip-path=\"url(#clip580)\" d=\"M 0 0 M2207.91 1503.95 L2211.61 1503.95 Q2215.08 1509.41 2216.79 1514.64 Q2218.53 1519.87 2218.53 1525.04 Q2218.53 1530.22 2216.79 1535.48 Q2215.08 1540.73 2211.61 1546.17 L2207.91 1546.17 Q2210.98 1540.87 2212.49 1535.64 Q2214.02 1530.38 2214.02 1525.04 Q2214.02 1519.69 2212.49 1514.48 Q2210.98 1509.27 2207.91 1503.95 Z\" fill=\"#000000\" fill-rule=\"evenodd\" fill-opacity=\"1\" /><path clip-path=\"url(#clip580)\" d=\"M 0 0 M75.4226 1431.51 Q71.8115 1431.51 69.9828 1435.08 Q68.1773 1438.62 68.1773 1445.75 Q68.1773 1452.86 69.9828 1456.42 Q71.8115 1459.96 75.4226 1459.96 Q79.0569 1459.96 80.8624 1456.42 Q82.6911 1452.86 82.6911 1445.75 Q82.6911 1438.62 80.8624 1435.08 Q79.0569 1431.51 75.4226 1431.51 M75.4226 1427.81 Q81.2328 1427.81 84.2883 1432.42 Q87.367 1437 87.367 1445.75 Q87.367 1454.48 84.2883 1459.08 Q81.2328 1463.67 75.4226 1463.67 Q69.6125 1463.67 66.5338 1459.08 Q63.4782 1454.48 63.4782 1445.75 Q63.4782 1437 66.5338 1432.42 Q69.6125 1427.81 75.4226 1427.81 Z\" fill=\"#000000\" fill-rule=\"evenodd\" fill-opacity=\"1\" /><path clip-path=\"url(#clip580)\" d=\"M 0 0 M92.4364 1457.12 L97.3206 1457.12 L97.3206 1463 L92.4364 1463 L92.4364 1457.12 Z\" fill=\"#000000\" fill-rule=\"evenodd\" fill-opacity=\"1\" /><path clip-path=\"url(#clip580)\" d=\"M 0 0 M112.39 1431.51 Q108.779 1431.51 106.95 1435.08 Q105.145 1438.62 105.145 1445.75 Q105.145 1452.86 106.95 1456.42 Q108.779 1459.96 112.39 1459.96 Q116.024 1459.96 117.83 1456.42 Q119.658 1452.86 119.658 1445.75 Q119.658 1438.62 117.83 1435.08 Q116.024 1431.51 112.39 1431.51 M112.39 1427.81 Q118.2 1427.81 121.256 1432.42 Q124.334 1437 124.334 1445.75 Q124.334 1454.48 121.256 1459.08 Q118.2 1463.67 112.39 1463.67 Q106.58 1463.67 103.501 1459.08 Q100.446 1454.48 100.446 1445.75 Q100.446 1437 103.501 1432.42 Q106.58 1427.81 112.39 1427.81 Z\" fill=\"#000000\" fill-rule=\"evenodd\" fill-opacity=\"1\" /><path clip-path=\"url(#clip580)\" d=\"M 0 0 M77.0198 1150.6 Q73.4087 1150.6 71.58 1154.17 Q69.7745 1157.71 69.7745 1164.84 Q69.7745 1171.95 71.58 1175.51 Q73.4087 1179.05 77.0198 1179.05 Q80.6541 1179.05 82.4596 1175.51 Q84.2883 1171.95 84.2883 1164.84 Q84.2883 1157.71 82.4596 1154.17 Q80.6541 1150.6 77.0198 1150.6 M77.0198 1146.9 Q82.83 1146.9 85.8855 1151.51 Q88.9642 1156.09 88.9642 1164.84 Q88.9642 1173.57 85.8855 1178.17 Q82.83 1182.76 77.0198 1182.76 Q71.2097 1182.76 68.131 1178.17 Q65.0754 1173.57 65.0754 1164.84 Q65.0754 1156.09 68.131 1151.51 Q71.2097 1146.9 77.0198 1146.9 Z\" fill=\"#000000\" fill-rule=\"evenodd\" fill-opacity=\"1\" /><path clip-path=\"url(#clip580)\" d=\"M 0 0 M94.0336 1176.2 L98.9179 1176.2 L98.9179 1182.08 L94.0336 1182.08 L94.0336 1176.2 Z\" fill=\"#000000\" fill-rule=\"evenodd\" fill-opacity=\"1\" /><path clip-path=\"url(#clip580)\" d=\"M 0 0 M108.015 1178.15 L124.334 1178.15 L124.334 1182.08 L102.39 1182.08 L102.39 1178.15 Q105.052 1175.39 109.635 1170.76 Q114.242 1166.11 115.422 1164.77 Q117.668 1162.25 118.547 1160.51 Q119.45 1158.75 119.45 1157.06 Q119.45 1154.31 117.506 1152.57 Q115.584 1150.83 112.483 1150.83 Q110.284 1150.83 107.83 1151.6 Q105.399 1152.36 102.622 1153.91 L102.622 1149.19 Q105.446 1148.06 107.899 1147.48 Q110.353 1146.9 112.39 1146.9 Q117.76 1146.9 120.955 1149.58 Q124.149 1152.27 124.149 1156.76 Q124.149 1158.89 123.339 1160.81 Q122.552 1162.71 120.446 1165.3 Q119.867 1165.97 116.765 1169.19 Q113.663 1172.39 108.015 1178.15 Z\" fill=\"#000000\" fill-rule=\"evenodd\" fill-opacity=\"1\" /><path clip-path=\"url(#clip580)\" d=\"M 0 0 M74.9365 869.691 Q71.3254 869.691 69.4967 873.256 Q67.6912 876.798 67.6912 883.927 Q67.6912 891.034 69.4967 894.598 Q71.3254 898.14 74.9365 898.14 Q78.5707 898.14 80.3763 894.598 Q82.205 891.034 82.205 883.927 Q82.205 876.798 80.3763 873.256 Q78.5707 869.691 74.9365 869.691 M74.9365 865.987 Q80.7467 865.987 83.8022 870.594 Q86.8809 875.177 86.8809 883.927 Q86.8809 892.654 83.8022 897.26 Q80.7467 901.844 74.9365 901.844 Q69.1264 901.844 66.0477 897.26 Q62.9921 892.654 62.9921 883.927 Q62.9921 875.177 66.0477 870.594 Q69.1264 865.987 74.9365 865.987 Z\" fill=\"#000000\" fill-rule=\"evenodd\" fill-opacity=\"1\" /><path clip-path=\"url(#clip580)\" d=\"M 0 0 M91.9503 895.293 L96.8345 895.293 L96.8345 901.172 L91.9503 901.172 L91.9503 895.293 Z\" fill=\"#000000\" fill-rule=\"evenodd\" fill-opacity=\"1\" /><path clip-path=\"url(#clip580)\" d=\"M 0 0 M114.751 870.687 L102.946 889.136 L114.751 889.136 L114.751 870.687 M113.524 866.612 L119.404 866.612 L119.404 889.136 L124.334 889.136 L124.334 893.024 L119.404 893.024 L119.404 901.172 L114.751 901.172 L114.751 893.024 L99.1493 893.024 L99.1493 888.511 L113.524 866.612 Z\" fill=\"#000000\" fill-rule=\"evenodd\" fill-opacity=\"1\" /><path clip-path=\"url(#clip580)\" d=\"M 0 0 M75.2606 588.78 Q71.6495 588.78 69.8208 592.344 Q68.0152 595.886 68.0152 603.016 Q68.0152 610.122 69.8208 613.687 Q71.6495 617.228 75.2606 617.228 Q78.8948 617.228 80.7004 613.687 Q82.5291 610.122 82.5291 603.016 Q82.5291 595.886 80.7004 592.344 Q78.8948 588.78 75.2606 588.78 M75.2606 585.076 Q81.0707 585.076 84.1263 589.682 Q87.205 594.266 87.205 603.016 Q87.205 611.742 84.1263 616.349 Q81.0707 620.932 75.2606 620.932 Q69.4504 620.932 66.3717 616.349 Q63.3162 611.742 63.3162 603.016 Q63.3162 594.266 66.3717 589.682 Q69.4504 585.076 75.2606 585.076 Z\" fill=\"#000000\" fill-rule=\"evenodd\" fill-opacity=\"1\" /><path clip-path=\"url(#clip580)\" d=\"M 0 0 M92.2744 614.381 L97.1586 614.381 L97.1586 620.261 L92.2744 620.261 L92.2744 614.381 Z\" fill=\"#000000\" fill-rule=\"evenodd\" fill-opacity=\"1\" /><path clip-path=\"url(#clip580)\" d=\"M 0 0 M112.807 601.117 Q109.659 601.117 107.807 603.27 Q105.978 605.423 105.978 609.173 Q105.978 612.9 107.807 615.076 Q109.659 617.228 112.807 617.228 Q115.955 617.228 117.783 615.076 Q119.635 612.9 119.635 609.173 Q119.635 605.423 117.783 603.27 Q115.955 601.117 112.807 601.117 M122.089 586.465 L122.089 590.724 Q120.33 589.891 118.524 589.451 Q116.742 589.011 114.983 589.011 Q110.353 589.011 107.899 592.136 Q105.469 595.261 105.122 601.58 Q106.487 599.567 108.547 598.502 Q110.608 597.414 113.084 597.414 Q118.293 597.414 121.302 600.585 Q124.334 603.733 124.334 609.173 Q124.334 614.497 121.186 617.715 Q118.038 620.932 112.807 620.932 Q106.811 620.932 103.64 616.349 Q100.469 611.742 100.469 603.016 Q100.469 594.821 104.358 589.96 Q108.247 585.076 114.797 585.076 Q116.557 585.076 118.339 585.423 Q120.145 585.77 122.089 586.465 Z\" fill=\"#000000\" fill-rule=\"evenodd\" fill-opacity=\"1\" /><path clip-path=\"url(#clip580)\" d=\"M 0 0 M75.5152 307.868 Q71.9041 307.868 70.0754 311.433 Q68.2699 314.974 68.2699 322.104 Q68.2699 329.21 70.0754 332.775 Q71.9041 336.317 75.5152 336.317 Q79.1494 336.317 80.955 332.775 Q82.7837 329.21 82.7837 322.104 Q82.7837 314.974 80.955 311.433 Q79.1494 307.868 75.5152 307.868 M75.5152 304.164 Q81.3254 304.164 84.3809 308.771 Q87.4596 313.354 87.4596 322.104 Q87.4596 330.831 84.3809 335.437 Q81.3254 340.021 75.5152 340.021 Q69.7051 340.021 66.6264 335.437 Q63.5708 330.831 63.5708 322.104 Q63.5708 313.354 66.6264 308.771 Q69.7051 304.164 75.5152 304.164 Z\" fill=\"#000000\" fill-rule=\"evenodd\" fill-opacity=\"1\" /><path clip-path=\"url(#clip580)\" d=\"M 0 0 M92.529 333.47 L97.4132 333.47 L97.4132 339.349 L92.529 339.349 L92.529 333.47 Z\" fill=\"#000000\" fill-rule=\"evenodd\" fill-opacity=\"1\" /><path clip-path=\"url(#clip580)\" d=\"M 0 0 M112.483 322.937 Q109.149 322.937 107.228 324.72 Q105.33 326.502 105.33 329.627 Q105.33 332.752 107.228 334.534 Q109.149 336.317 112.483 336.317 Q115.816 336.317 117.737 334.534 Q119.658 332.729 119.658 329.627 Q119.658 326.502 117.737 324.72 Q115.839 322.937 112.483 322.937 M107.807 320.947 Q104.797 320.206 103.108 318.146 Q101.441 316.086 101.441 313.123 Q101.441 308.979 104.381 306.572 Q107.344 304.164 112.483 304.164 Q117.645 304.164 120.584 306.572 Q123.524 308.979 123.524 313.123 Q123.524 316.086 121.834 318.146 Q120.168 320.206 117.182 320.947 Q120.561 321.734 122.436 324.025 Q124.334 326.317 124.334 329.627 Q124.334 334.65 121.256 337.335 Q118.2 340.021 112.483 340.021 Q106.765 340.021 103.686 337.335 Q100.631 334.65 100.631 329.627 Q100.631 326.317 102.529 324.025 Q104.427 321.734 107.807 320.947 M106.094 313.562 Q106.094 316.248 107.76 317.752 Q109.45 319.257 112.483 319.257 Q115.492 319.257 117.182 317.752 Q118.895 316.248 118.895 313.562 Q118.895 310.877 117.182 309.373 Q115.492 307.868 112.483 307.868 Q109.45 307.868 107.76 309.373 Q106.094 310.877 106.094 313.562 Z\" fill=\"#000000\" fill-rule=\"evenodd\" fill-opacity=\"1\" /><path clip-path=\"url(#clip582)\" d=\"\n",
       "M269.581 87.9763 L269.581 1445.72 L682.619 1445.72 L682.619 87.9763 L269.581 87.9763 L269.581 87.9763  Z\n",
       "  \" fill=\"#008000\" fill-rule=\"evenodd\" fill-opacity=\"1\"/>\n",
       "<polyline clip-path=\"url(#clip582)\" style=\"stroke:#000000; stroke-width:4; stroke-opacity:1; fill:none\" points=\"\n",
       "  269.581,87.9763 269.581,1445.72 682.619,1445.72 682.619,87.9763 269.581,87.9763 \n",
       "  \"/>\n",
       "<path clip-path=\"url(#clip582)\" d=\"\n",
       "M785.878 116.067 L785.878 1445.72 L1198.92 1445.72 L1198.92 116.067 L785.878 116.067 L785.878 116.067  Z\n",
       "  \" fill=\"#008000\" fill-rule=\"evenodd\" fill-opacity=\"1\"/>\n",
       "<polyline clip-path=\"url(#clip582)\" style=\"stroke:#000000; stroke-width:4; stroke-opacity:1; fill:none\" points=\"\n",
       "  785.878,116.067 785.878,1445.72 1198.92,1445.72 1198.92,116.067 785.878,116.067 \n",
       "  \"/>\n",
       "<path clip-path=\"url(#clip582)\" d=\"\n",
       "M1302.17 162.886 L1302.17 1445.72 L1715.21 1445.72 L1715.21 162.886 L1302.17 162.886 L1302.17 162.886  Z\n",
       "  \" fill=\"#008000\" fill-rule=\"evenodd\" fill-opacity=\"1\"/>\n",
       "<polyline clip-path=\"url(#clip582)\" style=\"stroke:#000000; stroke-width:4; stroke-opacity:1; fill:none\" points=\"\n",
       "  1302.17,162.886 1302.17,1445.72 1715.21,1445.72 1715.21,162.886 1302.17,162.886 \n",
       "  \"/>\n",
       "<path clip-path=\"url(#clip582)\" d=\"\n",
       "M1818.47 87.9763 L1818.47 1445.72 L2231.51 1445.72 L2231.51 87.9763 L1818.47 87.9763 L1818.47 87.9763  Z\n",
       "  \" fill=\"#008000\" fill-rule=\"evenodd\" fill-opacity=\"1\"/>\n",
       "<polyline clip-path=\"url(#clip582)\" style=\"stroke:#000000; stroke-width:4; stroke-opacity:1; fill:none\" points=\"\n",
       "  1818.47,87.9763 1818.47,1445.72 2231.51,1445.72 2231.51,87.9763 1818.47,87.9763 \n",
       "  \"/>\n",
       "<path clip-path=\"url(#clip580)\" d=\"\n",
       "M1884.83 251.724 L2280.76 251.724 L2280.76 130.764 L1884.83 130.764  Z\n",
       "  \" fill=\"#ffffff\" fill-rule=\"evenodd\" fill-opacity=\"1\"/>\n",
       "<polyline clip-path=\"url(#clip580)\" style=\"stroke:#000000; stroke-width:4; stroke-opacity:1; fill:none\" points=\"\n",
       "  1884.83,251.724 2280.76,251.724 2280.76,130.764 1884.83,130.764 1884.83,251.724 \n",
       "  \"/>\n",
       "<path clip-path=\"url(#clip580)\" d=\"\n",
       "M1908.83 215.436 L2052.83 215.436 L2052.83 167.052 L1908.83 167.052 L1908.83 215.436  Z\n",
       "  \" fill=\"#008000\" fill-rule=\"evenodd\" fill-opacity=\"1\"/>\n",
       "<polyline clip-path=\"url(#clip580)\" style=\"stroke:#000000; stroke-width:4; stroke-opacity:1; fill:none\" points=\"\n",
       "  1908.83,215.436 2052.83,215.436 2052.83,167.052 1908.83,167.052 1908.83,215.436 \n",
       "  \"/>\n",
       "<path clip-path=\"url(#clip580)\" d=\"M 0 0 M2076.83 173.964 L2081.51 173.964 L2081.51 188.131 L2098.5 188.131 L2098.5 173.964 L2103.17 173.964 L2103.17 208.524 L2098.5 208.524 L2098.5 192.066 L2081.51 192.066 L2081.51 208.524 L2076.83 208.524 L2076.83 173.964 Z\" fill=\"#000000\" fill-rule=\"evenodd\" fill-opacity=\"1\" /><path clip-path=\"url(#clip580)\" d=\"M 0 0 M2107.64 182.598 L2111.9 182.598 L2111.9 208.524 L2107.64 208.524 L2107.64 182.598 M2107.64 172.506 L2111.9 172.506 L2111.9 177.899 L2107.64 177.899 L2107.64 172.506 Z\" fill=\"#000000\" fill-rule=\"evenodd\" fill-opacity=\"1\" /><path clip-path=\"url(#clip580)\" d=\"M 0 0 M2120.58 175.237 L2120.58 182.598 L2129.35 182.598 L2129.35 185.908 L2120.58 185.908 L2120.58 199.982 Q2120.58 203.154 2121.44 204.057 Q2122.32 204.959 2124.98 204.959 L2129.35 204.959 L2129.35 208.524 L2124.98 208.524 Q2120.05 208.524 2118.17 206.695 Q2116.3 204.844 2116.3 199.982 L2116.3 185.908 L2113.17 185.908 L2113.17 182.598 L2116.3 182.598 L2116.3 175.237 L2120.58 175.237 Z\" fill=\"#000000\" fill-rule=\"evenodd\" fill-opacity=\"1\" /><path clip-path=\"url(#clip580)\" d=\"M 0 0 M2163.91 186.58 Q2163.2 186.163 2162.34 185.978 Q2161.51 185.77 2160.49 185.77 Q2156.88 185.77 2154.93 188.131 Q2153.01 190.469 2153.01 194.867 L2153.01 208.524 L2148.73 208.524 L2148.73 182.598 L2153.01 182.598 L2153.01 186.626 Q2154.35 184.265 2156.51 183.131 Q2158.66 181.973 2161.74 181.973 Q2162.18 181.973 2162.71 182.043 Q2163.24 182.089 2163.89 182.205 L2163.91 186.58 Z\" fill=\"#000000\" fill-rule=\"evenodd\" fill-opacity=\"1\" /><path clip-path=\"url(#clip580)\" d=\"M 0 0 M2180.16 195.492 Q2175 195.492 2173.01 196.672 Q2171.02 197.853 2171.02 200.7 Q2171.02 202.969 2172.5 204.311 Q2174.01 205.631 2176.58 205.631 Q2180.12 205.631 2182.25 203.131 Q2184.4 200.607 2184.4 196.441 L2184.4 195.492 L2180.16 195.492 M2188.66 193.733 L2188.66 208.524 L2184.4 208.524 L2184.4 204.589 Q2182.94 206.95 2180.77 208.084 Q2178.59 209.195 2175.44 209.195 Q2171.46 209.195 2169.1 206.973 Q2166.76 204.728 2166.76 200.978 Q2166.76 196.603 2169.68 194.381 Q2172.62 192.158 2178.43 192.158 L2184.4 192.158 L2184.4 191.742 Q2184.4 188.802 2182.46 187.205 Q2180.53 185.584 2177.04 185.584 Q2174.82 185.584 2172.71 186.117 Q2170.6 186.649 2168.66 187.714 L2168.66 183.779 Q2171 182.876 2173.2 182.436 Q2175.4 181.973 2177.48 181.973 Q2183.1 181.973 2185.88 184.89 Q2188.66 187.807 2188.66 193.733 Z\" fill=\"#000000\" fill-rule=\"evenodd\" fill-opacity=\"1\" /><path clip-path=\"url(#clip580)\" d=\"M 0 0 M2197.34 175.237 L2197.34 182.598 L2206.11 182.598 L2206.11 185.908 L2197.34 185.908 L2197.34 199.982 Q2197.34 203.154 2198.2 204.057 Q2199.08 204.959 2201.74 204.959 L2206.11 204.959 L2206.11 208.524 L2201.74 208.524 Q2196.81 208.524 2194.93 206.695 Q2193.06 204.844 2193.06 199.982 L2193.06 185.908 L2189.93 185.908 L2189.93 182.598 L2193.06 182.598 L2193.06 175.237 L2197.34 175.237 Z\" fill=\"#000000\" fill-rule=\"evenodd\" fill-opacity=\"1\" /><path clip-path=\"url(#clip580)\" d=\"M 0 0 M2232.76 194.496 L2232.76 196.58 L2213.17 196.58 Q2213.45 200.978 2215.81 203.293 Q2218.2 205.584 2222.43 205.584 Q2224.89 205.584 2227.18 204.982 Q2229.49 204.381 2231.76 203.177 L2231.76 207.205 Q2229.47 208.177 2227.06 208.686 Q2224.65 209.195 2222.18 209.195 Q2215.97 209.195 2212.34 205.584 Q2208.73 201.973 2208.73 195.816 Q2208.73 189.45 2212.15 185.723 Q2215.6 181.973 2221.44 181.973 Q2226.67 181.973 2229.7 185.353 Q2232.76 188.709 2232.76 194.496 M2228.5 193.246 Q2228.45 189.751 2226.53 187.668 Q2224.63 185.584 2221.48 185.584 Q2217.92 185.584 2215.77 187.598 Q2213.64 189.612 2213.31 193.27 L2228.5 193.246 Z\" fill=\"#000000\" fill-rule=\"evenodd\" fill-opacity=\"1\" /></svg>\n"
      ]
     },
     "execution_count": 62,
     "metadata": {},
     "output_type": "execute_result"
    }
   ],
   "source": [
    "bar(collect(keys(accuracy)), collect(values(accuracy)), fillcolor=:green,label=\"Hit rate\")"
   ]
  }
 ],
 "metadata": {
  "kernelspec": {
   "display_name": "Julia 1.4.1",
   "language": "julia",
   "name": "julia-1.4"
  },
  "language_info": {
   "file_extension": ".jl",
   "mimetype": "application/julia",
   "name": "julia",
   "version": "1.4.1"
  }
 },
 "nbformat": 4,
 "nbformat_minor": 4
}
